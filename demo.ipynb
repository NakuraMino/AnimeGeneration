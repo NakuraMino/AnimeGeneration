{
  "nbformat": 4,
  "nbformat_minor": 0,
  "metadata": {
    "colab": {
      "name": "demo.ipynb",
      "provenance": [],
      "collapsed_sections": []
    },
    "kernelspec": {
      "name": "python3",
      "display_name": "Python 3"
    },
    "accelerator": "GPU"
  },
  "cells": [
    {
      "cell_type": "markdown",
      "metadata": {
        "id": "552JdOVnKGCB"
      },
      "source": [
        "# Anime Generation Project Demo \r\n",
        "\r\n",
        "Hi and welcome to our project demo! Have fun generating some \"anime\" images :)"
      ]
    },
    {
      "cell_type": "markdown",
      "metadata": {
        "id": "X3Kj0pNDKxZ5"
      },
      "source": [
        "### Load some libraries and files"
      ]
    },
    {
      "cell_type": "code",
      "metadata": {
        "id": "ARzX_7GTHhLB"
      },
      "source": [
        "!git clone https://github.com/NakuraMino/AnimeGeneration"
      ],
      "execution_count": null,
      "outputs": []
    },
    {
      "cell_type": "code",
      "metadata": {
        "id": "-yvXIIMgIQcV"
      },
      "source": [
        "import os\r\n",
        "os.chdir('/content/AnimeGeneration/model')\r\n",
        "print(os.getcwd())"
      ],
      "execution_count": null,
      "outputs": []
    },
    {
      "cell_type": "code",
      "metadata": {
        "id": "s5UA1yPTKDpW"
      },
      "source": [
        "from importlib import reload  \r\n",
        "import torch \r\n",
        "import torch.nn as nn \r\n",
        "import torch.optim as optim \r\n",
        "from dataloader import *\r\n",
        "from autoencoder import *\r\n",
        "from losses import * \r\n",
        "import matplotlib.pyplot as plt\r\n",
        "import utilities\r\n",
        "import cv2\r\n"
      ],
      "execution_count": null,
      "outputs": []
    },
    {
      "cell_type": "markdown",
      "metadata": {
        "id": "Azg9VNjpK0w9"
      },
      "source": [
        "### Initialize Variables etc.\r\n",
        "Make sure you are using GPU!"
      ]
    },
    {
      "cell_type": "code",
      "metadata": {
        "id": "MGMo2N-pKpiX"
      },
      "source": [
        "device = torch.device('cuda' if torch.cuda.is_available() else 'cpu')\r\n",
        "\r\n",
        "generator = AutoEncoder().to(device)\r\n",
        "generator.load_model(f'/content/AnimeGeneration/model_weights/autoencoder.pth')"
      ],
      "execution_count": null,
      "outputs": []
    },
    {
      "cell_type": "markdown",
      "metadata": {
        "id": "WG9Ez1ICLY21"
      },
      "source": [
        "### Check Your Outputs\r\n",
        "\r\n",
        "We have some sample photos in the \"demo_dataset\" folder to play around with! Choose the photo you want to transform and in the first line of code below, replace \"image number\" with the image you choose."
      ]
    },
    {
      "cell_type": "code",
      "metadata": {
        "id": "QqY8UqfZLYYC"
      },
      "source": [
        "image = cv2.imread(\"/content/AnimeGeneration/demo_dataset/image_number.jpg\", 1) # <-- Replace \"image_number\" with the name of the image you uploaded!\r\n",
        "image = cv2.cvtColor(image, cv2.COLOR_BGR2RGB)\r\n",
        "image = standardize_images(image)\r\n",
        "image = image_to_tensor(image).to(device).unsqueeze(0)\r\n",
        "\r\n",
        "gen_fun = generator(image)\r\n",
        "\r\n",
        "originals = utilities.torch_to_numpy(image, is_standardized_image=True)\r\n",
        "gen_fun = utilities.torch_to_numpy(gen_fun, is_standardized_image=True)\r\n",
        "\r\n",
        "utilities.plot_images(originals, \"original\", 1)\r\n",
        "utilities.plot_images(gen_fun, \"generated\", 2)"
      ],
      "execution_count": null,
      "outputs": []
    }
  ]
}