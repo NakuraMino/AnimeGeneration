{
  "nbformat": 4,
  "nbformat_minor": 0,
  "metadata": {
    "colab": {
      "name": "AnimeGANTrainer.ipynb",
      "provenance": [],
      "collapsed_sections": [],
      "toc_visible": true
    },
    "kernelspec": {
      "name": "python3",
      "display_name": "Python 3"
    },
    "accelerator": "GPU",
    "widgets": {
      "application/vnd.jupyter.widget-state+json": {
        "81b2343c459945ff9118940c05a35285": {
          "model_module": "@jupyter-widgets/controls",
          "model_name": "HBoxModel",
          "state": {
            "_view_name": "HBoxView",
            "_dom_classes": [],
            "_model_name": "HBoxModel",
            "_view_module": "@jupyter-widgets/controls",
            "_model_module_version": "1.5.0",
            "_view_count": null,
            "_view_module_version": "1.5.0",
            "box_style": "",
            "layout": "IPY_MODEL_5969557c9598431d8ec23962eaa40db9",
            "_model_module": "@jupyter-widgets/controls",
            "children": [
              "IPY_MODEL_f1bdd291aabf41cb998927dfbe90c036",
              "IPY_MODEL_3494b4f9e27b4d85817865c02118911b"
            ]
          }
        },
        "5969557c9598431d8ec23962eaa40db9": {
          "model_module": "@jupyter-widgets/base",
          "model_name": "LayoutModel",
          "state": {
            "_view_name": "LayoutView",
            "grid_template_rows": null,
            "right": null,
            "justify_content": null,
            "_view_module": "@jupyter-widgets/base",
            "overflow": null,
            "_model_module_version": "1.2.0",
            "_view_count": null,
            "flex_flow": null,
            "width": null,
            "min_width": null,
            "border": null,
            "align_items": null,
            "bottom": null,
            "_model_module": "@jupyter-widgets/base",
            "top": null,
            "grid_column": null,
            "overflow_y": null,
            "overflow_x": null,
            "grid_auto_flow": null,
            "grid_area": null,
            "grid_template_columns": null,
            "flex": null,
            "_model_name": "LayoutModel",
            "justify_items": null,
            "grid_row": null,
            "max_height": null,
            "align_content": null,
            "visibility": null,
            "align_self": null,
            "height": null,
            "min_height": null,
            "padding": null,
            "grid_auto_rows": null,
            "grid_gap": null,
            "max_width": null,
            "order": null,
            "_view_module_version": "1.2.0",
            "grid_template_areas": null,
            "object_position": null,
            "object_fit": null,
            "grid_auto_columns": null,
            "margin": null,
            "display": null,
            "left": null
          }
        },
        "f1bdd291aabf41cb998927dfbe90c036": {
          "model_module": "@jupyter-widgets/controls",
          "model_name": "FloatProgressModel",
          "state": {
            "_view_name": "ProgressView",
            "style": "IPY_MODEL_b767d1907f6c435384579f1e32fe7aad",
            "_dom_classes": [],
            "description": "100%",
            "_model_name": "FloatProgressModel",
            "bar_style": "success",
            "max": 574673361,
            "_view_module": "@jupyter-widgets/controls",
            "_model_module_version": "1.5.0",
            "value": 574673361,
            "_view_count": null,
            "_view_module_version": "1.5.0",
            "orientation": "horizontal",
            "min": 0,
            "description_tooltip": null,
            "_model_module": "@jupyter-widgets/controls",
            "layout": "IPY_MODEL_e888cbea03dc497eb397c1813391e489"
          }
        },
        "3494b4f9e27b4d85817865c02118911b": {
          "model_module": "@jupyter-widgets/controls",
          "model_name": "HTMLModel",
          "state": {
            "_view_name": "HTMLView",
            "style": "IPY_MODEL_0f3816fcc3d6444fa85a77d5828d639f",
            "_dom_classes": [],
            "description": "",
            "_model_name": "HTMLModel",
            "placeholder": "​",
            "_view_module": "@jupyter-widgets/controls",
            "_model_module_version": "1.5.0",
            "value": " 548M/548M [00:48&lt;00:00, 11.8MB/s]",
            "_view_count": null,
            "_view_module_version": "1.5.0",
            "description_tooltip": null,
            "_model_module": "@jupyter-widgets/controls",
            "layout": "IPY_MODEL_7b1fedd91f7449c3beb0676a0b7f332d"
          }
        },
        "b767d1907f6c435384579f1e32fe7aad": {
          "model_module": "@jupyter-widgets/controls",
          "model_name": "ProgressStyleModel",
          "state": {
            "_view_name": "StyleView",
            "_model_name": "ProgressStyleModel",
            "description_width": "initial",
            "_view_module": "@jupyter-widgets/base",
            "_model_module_version": "1.5.0",
            "_view_count": null,
            "_view_module_version": "1.2.0",
            "bar_color": null,
            "_model_module": "@jupyter-widgets/controls"
          }
        },
        "e888cbea03dc497eb397c1813391e489": {
          "model_module": "@jupyter-widgets/base",
          "model_name": "LayoutModel",
          "state": {
            "_view_name": "LayoutView",
            "grid_template_rows": null,
            "right": null,
            "justify_content": null,
            "_view_module": "@jupyter-widgets/base",
            "overflow": null,
            "_model_module_version": "1.2.0",
            "_view_count": null,
            "flex_flow": null,
            "width": null,
            "min_width": null,
            "border": null,
            "align_items": null,
            "bottom": null,
            "_model_module": "@jupyter-widgets/base",
            "top": null,
            "grid_column": null,
            "overflow_y": null,
            "overflow_x": null,
            "grid_auto_flow": null,
            "grid_area": null,
            "grid_template_columns": null,
            "flex": null,
            "_model_name": "LayoutModel",
            "justify_items": null,
            "grid_row": null,
            "max_height": null,
            "align_content": null,
            "visibility": null,
            "align_self": null,
            "height": null,
            "min_height": null,
            "padding": null,
            "grid_auto_rows": null,
            "grid_gap": null,
            "max_width": null,
            "order": null,
            "_view_module_version": "1.2.0",
            "grid_template_areas": null,
            "object_position": null,
            "object_fit": null,
            "grid_auto_columns": null,
            "margin": null,
            "display": null,
            "left": null
          }
        },
        "0f3816fcc3d6444fa85a77d5828d639f": {
          "model_module": "@jupyter-widgets/controls",
          "model_name": "DescriptionStyleModel",
          "state": {
            "_view_name": "StyleView",
            "_model_name": "DescriptionStyleModel",
            "description_width": "",
            "_view_module": "@jupyter-widgets/base",
            "_model_module_version": "1.5.0",
            "_view_count": null,
            "_view_module_version": "1.2.0",
            "_model_module": "@jupyter-widgets/controls"
          }
        },
        "7b1fedd91f7449c3beb0676a0b7f332d": {
          "model_module": "@jupyter-widgets/base",
          "model_name": "LayoutModel",
          "state": {
            "_view_name": "LayoutView",
            "grid_template_rows": null,
            "right": null,
            "justify_content": null,
            "_view_module": "@jupyter-widgets/base",
            "overflow": null,
            "_model_module_version": "1.2.0",
            "_view_count": null,
            "flex_flow": null,
            "width": null,
            "min_width": null,
            "border": null,
            "align_items": null,
            "bottom": null,
            "_model_module": "@jupyter-widgets/base",
            "top": null,
            "grid_column": null,
            "overflow_y": null,
            "overflow_x": null,
            "grid_auto_flow": null,
            "grid_area": null,
            "grid_template_columns": null,
            "flex": null,
            "_model_name": "LayoutModel",
            "justify_items": null,
            "grid_row": null,
            "max_height": null,
            "align_content": null,
            "visibility": null,
            "align_self": null,
            "height": null,
            "min_height": null,
            "padding": null,
            "grid_auto_rows": null,
            "grid_gap": null,
            "max_width": null,
            "order": null,
            "_view_module_version": "1.2.0",
            "grid_template_areas": null,
            "object_position": null,
            "object_fit": null,
            "grid_auto_columns": null,
            "margin": null,
            "display": null,
            "left": null
          }
        }
      }
    }
  },
  "cells": [
    {
      "cell_type": "code",
      "metadata": {
        "id": "a3NAQjoqkfVT"
      },
      "source": [
        "import torch \n",
        "import torch.nn as nn \n",
        "import torch.optim as optim \n",
        "from dataloader import *\n",
        "from _generator import *\n",
        "from discriminator import *\n",
        "from losses import * \n",
        "import utilities\n",
        "import random\n",
        "device = torch.device('cuda' if torch.cuda.is_available() else 'cpu')\n",
        "\n",
        "BASE_PRETRAIN_PATH = '/content/drive/MyDrive/trained_models/'\n",
        "BASE_SAVE_PATH = '/content/drive/MyDrive/adjustParams/'"
      ],
      "execution_count": null,
      "outputs": []
    },
    {
      "cell_type": "code",
      "metadata": {
        "colab": {
          "base_uri": "https://localhost:8080/"
        },
        "id": "aCqaLv0unM0R",
        "outputId": "dbe8fd54-dc51-4f8f-f44e-2f38c5b2ffd5"
      },
      "source": [
        "from google.colab import drive\n",
        "drive.mount('/content/drive')"
      ],
      "execution_count": null,
      "outputs": [
        {
          "output_type": "stream",
          "text": [
            "Drive already mounted at /content/drive; to attempt to forcibly remount, call drive.mount(\"/content/drive\", force_remount=True).\n"
          ],
          "name": "stdout"
        }
      ]
    },
    {
      "cell_type": "markdown",
      "metadata": {
        "id": "bRyG0fWH6ie7"
      },
      "source": [
        "## Initial Variables etc..\n"
      ]
    },
    {
      "cell_type": "code",
      "metadata": {
        "id": "9oAQyELFkl59",
        "colab": {
          "base_uri": "https://localhost:8080/",
          "height": 83,
          "referenced_widgets": [
            "81b2343c459945ff9118940c05a35285",
            "5969557c9598431d8ec23962eaa40db9",
            "f1bdd291aabf41cb998927dfbe90c036",
            "3494b4f9e27b4d85817865c02118911b",
            "b767d1907f6c435384579f1e32fe7aad",
            "e888cbea03dc497eb397c1813391e489",
            "0f3816fcc3d6444fa85a77d5828d639f",
            "7b1fedd91f7449c3beb0676a0b7f332d"
          ]
        },
        "outputId": "d48b03b4-87de-4d0e-9e85-a28e0f229d09"
      },
      "source": [
        "# networks \n",
        "\n",
        "generator = Generator().to(device)\n",
        "generator.load_model(BASE_SAVE_PATH + 'generator_checkpoint_e8_r2.pth')\n",
        "generator = generator.train()\n",
        "\n",
        "discriminator = Discriminator().to(device)\n",
        "discriminator.load_model(BASE_SAVE_PATH + 'discriminator_checkpoint_e7.pth')\n",
        "discriminator = discriminator.train()\n",
        "\n",
        "VGG = getVGGConv4_4().to(device)"
      ],
      "execution_count": null,
      "outputs": [
        {
          "output_type": "stream",
          "text": [
            "Downloading: \"https://download.pytorch.org/models/vgg19-dcbb9e9d.pth\" to /root/.cache/torch/hub/checkpoints/vgg19-dcbb9e9d.pth\n"
          ],
          "name": "stderr"
        },
        {
          "output_type": "display_data",
          "data": {
            "application/vnd.jupyter.widget-view+json": {
              "model_id": "81b2343c459945ff9118940c05a35285",
              "version_minor": 0,
              "version_major": 2
            },
            "text/plain": [
              "HBox(children=(FloatProgress(value=0.0, max=574673361.0), HTML(value='')))"
            ]
          },
          "metadata": {
            "tags": []
          }
        },
        {
          "output_type": "stream",
          "text": [
            "\n"
          ],
          "name": "stdout"
        }
      ]
    },
    {
      "cell_type": "code",
      "metadata": {
        "id": "22e8Zisa6lSr"
      },
      "source": [
        "# losses \n",
        "\n",
        "content_loss = ContentLoss(VGG).to(device)\n",
        "grayscale_loss = GrayscaleStyleLoss(VGG).to(device)\n",
        "color_recon_loss = ColorReconLoss().to(device)\n",
        "adversarial_loss = nn.MSELoss().to(device)\n"
      ],
      "execution_count": null,
      "outputs": []
    },
    {
      "cell_type": "code",
      "metadata": {
        "id": "uD1AnKEc7PT9"
      },
      "source": [
        "# optimizers\n",
        "\n",
        "# maybe come back and add weight decay \n",
        "\n",
        "pre_train_optim = optim.Adam(generator.parameters(), lr=0.0001)\n",
        "\n",
        "gen_optim = optim.Adam(generator.parameters(), lr=0.00008)\n",
        "dis_optim = optim.Adam(discriminator.parameters(), lr=0.00016)"
      ],
      "execution_count": null,
      "outputs": []
    },
    {
      "cell_type": "code",
      "metadata": {
        "id": "tXNqZGJk8unl"
      },
      "source": [
        "ANIME_PATH = '/content/drive/MyDrive/dataset/Shinkai/style/'\n",
        "SMOOTH_PATH = '/content/drive/MyDrive/dataset/Shinkai/smooth/'\n",
        "PHOTOS_PATH = '/content/drive/MyDrive/dataset/train_photo/'\n",
        "\n",
        "photo_dataloader = getPhotoDataloader(PHOTOS_PATH)\n",
        "anime_dataloader = getAnimeDataloader(ANIME_PATH, grayscale=True)\n",
        "dis_dataloader = getPhotoAndAnimeDataloader(ANIME_PATH, SMOOTH_PATH, PHOTOS_PATH)"
      ],
      "execution_count": null,
      "outputs": []
    },
    {
      "cell_type": "markdown",
      "metadata": {
        "id": "X98EuO6rC7SX"
      },
      "source": [
        "## Train the Network here:"
      ]
    },
    {
      "cell_type": "code",
      "metadata": {
        "id": "wzFOjgybfTIV"
      },
      "source": [
        "import pickle\n",
        "from google.colab import files\n",
        "\n",
        "EPOCHS = 10\n",
        "START_EPOCH = 6\n",
        "G_TO_D_RATIO = 5\n",
        "LAMBDA_ADV = 100.\n",
        "LAMBDA_CON = 0.01\n",
        "LAMBDA_GRA = 10.\n",
        "LAMBDA_COL = 5.\n",
        "DISCRIMINATOR_FIRST = False\n",
        "RANDOM_SKIP = 0.3 # roughly 1 to 4 ratio\n",
        "# Math is: \n",
        "# discriminator 6,609 iterations / epoch = 26,438 photos / BATCH_SIZE(4)\n",
        "# generator: 8,320 iterations / epoch = 6,656 images * G_TO_D_RATIO / BATCH_SIZE \n",
        "# discriminator * RANDOM_SKIP / generator is roughly 1 to 4\n",
        "\n",
        "\n",
        "anime_iter = iter(anime_dataloader)\n",
        "\n",
        "fake_true_labels = torch.ones((4,1,64,64)).to(device)\n",
        "fake_fake_labels = torch.zeros((4,1,64,64)).to(device)\n",
        "\n",
        "content_loss_list = utilities.readListFromPickle(BASE_SAVE_PATH + 'content_loss.pkl')\n",
        "gray_loss_list = utilities.readListFromPickle(BASE_SAVE_PATH + 'gray_loss.pkl')\n",
        "color_loss_list = utilities.readListFromPickle(BASE_SAVE_PATH + 'color_loss.pkl')\n",
        "adv_loss_list = utilities.readListFromPickle(BASE_SAVE_PATH + 'adv_loss.pkl')\n",
        "discriminator_loss_list = utilities.readListFromPickle(f'{BASE_SAVE_PATH}dis_loss.pkl')\n",
        "\n",
        "\n",
        "for e in range(START_EPOCH, EPOCHS):  \n",
        "  print(\"training generator\")\n",
        "  for r in range(G_TO_D_RATIO):\n",
        "    if DISCRIMINATOR_FIRST:\n",
        "      DISCRIMINATOR_FIRST = False\n",
        "      break\n",
        "    for p_batch_idx, photo_batch in enumerate(photo_dataloader):\n",
        "      # train the generator\n",
        "      \n",
        "      gen_optim.zero_grad()\n",
        "      \n",
        "      anime_batch = next(anime_iter).to(device)\n",
        "      if anime_batch.shape != photo_batch.shape:\n",
        "        anime_iter = iter(anime_dataloader)\n",
        "        continue\n",
        "\n",
        "      # pass through generator network\n",
        "      photo_batch = photo_batch.to(device)\n",
        "      gen_images = generator(photo_batch)\n",
        "      # gen_image is [4 x 3 x 256 x 256]\n",
        "\n",
        "      # pass through discriminator network\n",
        "      pred_labels = discriminator(gen_images)\n",
        "\n",
        "      # calculate losses\n",
        "      con_loss = content_loss(gen_images, photo_batch)\n",
        "      gra_loss = grayscale_loss(gen_images, anime_batch)\n",
        "      col_loss = color_recon_loss(gen_images, photo_batch)\n",
        "      adv_loss = adversarial_loss(pred_labels, fake_true_labels)\n",
        "\n",
        "      loss = LAMBDA_ADV * adv_loss + LAMBDA_CON * con_loss + \\\n",
        "              LAMBDA_GRA * gra_loss + LAMBDA_COL * col_loss\n",
        "      \n",
        "      # backpropogate\n",
        "      loss.backward()\n",
        "      gen_optim.step()\n",
        "\n",
        "      # tell the discriminator to discriminate generated images\n",
        "      if e < 5 and random.random() < 0.01:\n",
        "        dis_optim.zero_grad()\n",
        "\n",
        "        pred_labels = discriminator(gen_images)\n",
        "        loss = 0.1 * adversarial_loss(pred_labels, labels)\n",
        "\n",
        "        # backpropogate\n",
        "        loss.backward()\n",
        "        dis_optim.step()\n",
        "\n",
        "\n",
        "      # save in list\n",
        "      content_loss_list.append(con_loss.item())\n",
        "      gray_loss_list.append(gra_loss.item())\n",
        "      color_loss_list.append(col_loss.item())\n",
        "      adv_loss_list.append(adv_loss.item())\n",
        "\n",
        "      if p_batch_idx % 500 == 499:\n",
        "        # save model at periodic checkpoints\n",
        "        print(\"generator epoch:\", e, \"r:\", r, \"p_batch_idx\", p_batch_idx, \"loss:\", loss.item())        \n",
        "        utilities.saveListToPickle(BASE_SAVE_PATH + 'content_loss.pkl', content_loss_list)\n",
        "        utilities.saveListToPickle(BASE_SAVE_PATH + 'gray_loss.pkl', gray_loss_list)\n",
        "        utilities.saveListToPickle(BASE_SAVE_PATH + 'color_loss.pkl', color_loss_list)\n",
        "        utilities.saveListToPickle(BASE_SAVE_PATH + 'adv_loss.pkl', adv_loss_list)\n",
        "      \n",
        "    print(\"saving sample generated images...\")\n",
        "    unique_identifier = f\"e{e}r{r}idx\"\n",
        "    utilities.save_torch_as_images(BASE_SAVE_PATH, gen_images, unique_identifier=f'{unique_identifier}', is_standardized_image=True)\n",
        "    utilities.save_torch_as_images(BASE_SAVE_PATH, gen_images, unique_identifier=f'_{unique_identifier}', is_standardized_image=True, adjust_brightness=True, imgs=photo_batch)\n",
        "    print(\"done!\")\n",
        "    generator.save_model(f\"{BASE_SAVE_PATH}generator_checkpoint_e{e}_r{r}.pth\")\n",
        "\n",
        "  generator.save_model(f\"{BASE_SAVE_PATH}generator_checkpoint_e{e}.pth\")\n",
        "  \n",
        "  print(\"training discriminator\")\n",
        "  for batch_idx, (photo_batch, labels) in enumerate(dis_dataloader):\n",
        "    # trains the discriminator\n",
        "\n",
        "    if random.random() < RANDOM_SKIP:\n",
        "      # discriminator is trained too often, so randomly skip RANDOM_SKIP of images\n",
        "      # to prevent discriminator from converging too quickly\n",
        "      continue\n",
        "\n",
        "    dis_optim.zero_grad()\n",
        "    \n",
        "    # send data to cuda if available    \n",
        "    photo_batch = photo_batch.to(device)\n",
        "    labels = labels.to(device)\n",
        "\n",
        "    # pass through discriminator and get loss\n",
        "    pred_labels = discriminator(photo_batch)\n",
        "    loss = adversarial_loss(pred_labels, labels)\n",
        "\n",
        "    # backpropogate\n",
        "    loss.backward()\n",
        "    dis_optim.step()\n",
        "    \n",
        "    discriminator_loss_list.append(loss.item())\n",
        "\n",
        "    if batch_idx % 500 == 499:\n",
        "      # save model at periodic checkpoints\n",
        "      print(\"discriminator epoch:\", e, \"batch_idx\", batch_idx, \"loss:\", loss.item())\n",
        "      utilities.saveListToPickle(f'{BASE_SAVE_PATH}dis_loss.pkl', discriminator_loss_list)\n",
        "\n",
        "  discriminator.save_model(f\"{BASE_SAVE_PATH}discriminator_checkpoint_e{e}.pth\")\n",
        "\n",
        "generator.save_model(f\"{BASE_SAVE_PATH}generator_final.pth\")\n",
        "discriminator.save_model(f\"{BASE_SAVE_PATH}discriminator_final.pth\")"
      ],
      "execution_count": null,
      "outputs": []
    },
    {
      "cell_type": "markdown",
      "metadata": {
        "id": "CS5DCJdvvVKh"
      },
      "source": [
        "# Some quick visual checks"
      ]
    },
    {
      "cell_type": "code",
      "metadata": {
        "id": "JThMDliDr_Sd"
      },
      "source": [
        "pred_labels = discriminator(gen_images)"
      ],
      "execution_count": null,
      "outputs": []
    },
    {
      "cell_type": "code",
      "metadata": {
        "id": "67H368eNuuV0"
      },
      "source": [
        "print(pred_labels)"
      ],
      "execution_count": null,
      "outputs": []
    },
    {
      "cell_type": "code",
      "metadata": {
        "id": "lcv1y9K1uvdO"
      },
      "source": [
        "discriminator(photo_batch)"
      ],
      "execution_count": null,
      "outputs": []
    },
    {
      "cell_type": "code",
      "metadata": {
        "id": "Gu56K9Xou5tR"
      },
      "source": [
        "print(labels)"
      ],
      "execution_count": null,
      "outputs": []
    },
    {
      "cell_type": "code",
      "metadata": {
        "id": "nZeMTGTou7Qe",
        "colab": {
          "base_uri": "https://localhost:8080/",
          "height": 1000
        },
        "outputId": "39a6386b-4bb0-4c72-8318-3fe3274ddb4e"
      },
      "source": [
        "import matplotlib.pyplot as plt\r\n",
        "\r\n",
        "# learning curves \r\n",
        "\r\n",
        "INTERVAL = 50\r\n",
        "\r\n",
        "content_loss_list = utilities.listToAvg(utilities.readListFromPickle(BASE_SAVE_PATH + 'content_loss.pkl'), interval=INTERVAL)\r\n",
        "color_loss_list = utilities.listToAvg(utilities.readListFromPickle(BASE_SAVE_PATH + 'color_loss.pkl'), interval=INTERVAL)\r\n",
        "gray_loss_list = utilities.listToAvg(utilities.readListFromPickle(BASE_SAVE_PATH + 'gray_loss.pkl'), interval=INTERVAL)\r\n",
        "adv_loss_list = utilities.listToAvg(utilities.readListFromPickle(BASE_SAVE_PATH + 'adv_loss.pkl'), interval=INTERVAL)\r\n",
        "dis_loss_list = utilities.listToAvg(utilities.readListFromPickle(BASE_SAVE_PATH + 'dis_loss.pkl'), interval=INTERVAL)\r\n",
        "\r\n",
        "f1 = plt.figure()\r\n",
        "plt.title(\"content\")\r\n",
        "plt.plot(content_loss_list)\r\n",
        "\r\n",
        "f2 = plt.figure()\r\n",
        "plt.title(\"color\")\r\n",
        "plt.plot(color_loss_list)\r\n",
        "\r\n",
        "f3 = plt.figure()\r\n",
        "plt.title(\"gray\")\r\n",
        "plt.plot(gray_loss_list)\r\n",
        "\r\n",
        "f4 = plt.figure()\r\n",
        "plt.title(\"adv\")\r\n",
        "plt.plot(adv_loss_list)\r\n",
        "\r\n",
        "f5 = plt.figure()\r\n",
        "plt.title(\"dis\")\r\n",
        "plt.plot(dis_loss_list)"
      ],
      "execution_count": 14,
      "outputs": [
        {
          "output_type": "execute_result",
          "data": {
            "text/plain": [
              "[<matplotlib.lines.Line2D at 0x7f84f10b06d8>]"
            ]
          },
          "metadata": {
            "tags": []
          },
          "execution_count": 14
        },
        {
          "output_type": "display_data",
          "data": {
            "image/png": "[encoded data removed]",
            "text/plain": [
              "<Figure size 432x288 with 1 Axes>"
            ]
          },
          "metadata": {
            "tags": [],
            "needs_background": "light"
          }
        },
        {
          "output_type": "display_data",
          "data": {
            "image/png": "[encoded data removed]",
            "text/plain": [
              "<Figure size 432x288 with 1 Axes>"
            ]
          },
          "metadata": {
            "tags": [],
            "needs_background": "light"
          }
        },
        {
          "output_type": "display_data",
          "data": {
            "image/png": "[encoded data removed]",
            "text/plain": [
              "<Figure size 432x288 with 1 Axes>"
            ]
          },
          "metadata": {
            "tags": [],
            "needs_background": "light"
          }
        },
        {
          "output_type": "display_data",
          "data": {
            "image/png": "[encoded data removed]",
            "text/plain": [
              "<Figure size 432x288 with 1 Axes>"
            ]
          },
          "metadata": {
            "tags": [],
            "needs_background": "light"
          }
        },
        {
          "output_type": "display_data",
          "data": {
            "image/png": "[encoded data removed]",
            "text/plain": [
              "<Figure size 432x288 with 1 Axes>"
            ]
          },
          "metadata": {
            "tags": [],
            "needs_background": "light"
          }
        }
      ]
    },
    {
      "cell_type": "code",
      "metadata": {
        "id": "jWuP2RZTvczt"
      },
      "source": [
        ""
      ],
      "execution_count": null,
      "outputs": []
    }
  ]
}